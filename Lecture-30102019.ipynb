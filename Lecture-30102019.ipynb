{
 "cells": [
  {
   "cell_type": "markdown",
   "metadata": {},
   "source": [
    "# 1-D Radiative transfer equation with absorption and scattering"
   ]
  },
  {
   "cell_type": "code",
   "execution_count": 1,
   "metadata": {
    "collapsed": true
   },
   "outputs": [],
   "source": [
    "import numpy as np\n",
    "from matplotlib import pyplot as plt"
   ]
  },
  {
   "cell_type": "code",
   "execution_count": 21,
   "metadata": {
    "collapsed": true
   },
   "outputs": [],
   "source": [
    "# parameters for the grid\n",
    "N = 100\n",
    "q = np.ones(N) * 1/N #assuming rho_inc = 0\n",
    "alpha = 1.\n",
    "epsilon = 0.1"
   ]
  },
  {
   "cell_type": "code",
   "execution_count": 23,
   "metadata": {},
   "outputs": [
    {
     "data": {
      "text/plain": [
       "[<matplotlib.lines.Line2D at 0x118fa95c0>]"
      ]
     },
     "execution_count": 23,
     "metadata": {},
     "output_type": "execute_result"
    },
    {
     "data": {
      "image/png": "[encoded data removed]",
      "text/plain": [
       "<Figure size 432x288 with 1 Axes>"
      ]
     },
     "metadata": {
      "needs_background": "light"
     },
     "output_type": "display_data"
    }
   ],
   "source": [
    "A = np.identity(N)\n",
    "for i in range(N):\n",
    "    if i < (N - 1):\n",
    "        A[i + 1, i] = -1 - (1- epsilon)/N * alpha/2\n",
    "    A[i, i] += alpha/N - (1- epsilon)/N * alpha/2\n",
    "    \n",
    "rho = np.linalg.solve(A, q)\n",
    "\n",
    "plt.plot(range(len(rho)), rho)"
   ]
  },
  {
   "cell_type": "markdown",
   "metadata": {},
   "source": [
    "# 2D absorption"
   ]
  },
  {
   "cell_type": "code",
   "execution_count": 2,
   "metadata": {
    "collapsed": true
   },
   "outputs": [],
   "source": [
    "n = 20\n",
    "n_omega = [1, 1]\n",
    "n_omega = n_omega/np.linalg.norm(n_omega)\n",
    "alpha = 0. #absorption\n",
    "q0 = 1.\n",
    "\n",
    "#boundary condition\n",
    "rho_inc = 0."
   ]
  },
  {
   "cell_type": "code",
   "execution_count": 4,
   "metadata": {},
   "outputs": [
    {
     "data": {
      "text/plain": [
       "array([[0., 0., 0., ..., 0., 0., 0.],\n",
       "       [0., 0., 0., ..., 0., 0., 0.],\n",
       "       [0., 0., 0., ..., 0., 0., 0.],\n",
       "       ...,\n",
       "       [0., 0., 0., ..., 0., 0., 0.],\n",
       "       [0., 0., 0., ..., 0., 0., 0.],\n",
       "       [0., 0., 0., ..., 0., 0., 0.]])"
      ]
     },
     "execution_count": 4,
     "metadata": {},
     "output_type": "execute_result"
    }
   ],
   "source": [
    "A = np.zeros((n**2, n**2))\n",
    "\n",
    "for k in range(n):\n",
    "    for j in range(n):\n",
    "        A[k*n+j, k*n+j] = 1./n * np.sum(n_omega)\n",
    "    for j in range(1, n):\n",
    "        A[k*n+j, k*n+j-1] = -1./n * n_omega[0]\n",
    "        \n",
    "for k "
   ]
  },
  {
   "cell_type": "markdown",
   "metadata": {},
   "source": [
    "Finite Volume:\n",
    "\n",
    "1. choose a mesh with cells $V_i, \\rho$ piecewise constant, same for $\\phi$, i.e.\n",
    "\n",
    "$$\\rho, \\phi \\in V_n$$\n",
    "\n",
    "2. integrate by parts\n",
    "3. use upwinding (essentially the difference of cont vs discont Galerkin)\n",
    "\n",
    "$$ \\rho_x(y) = \\sum_{V_i} ( \\, - \\int_{V_i} \\rho (n_{\\omega} * \\nabla) \\phi \\,dx + \\int_{\\partial V_{i}^{-}} \\rho^{\\uparrow} \\phi (n_\\omega * n_{V_i}) \\,ds + \\int_{\\partial V_{i}^{+}} \\rho \\phi (n_\\omega * n_{V_i}) \\,ds ) \\, $$\n"
   ]
  },
  {
   "cell_type": "code",
   "execution_count": null,
   "metadata": {
    "collapsed": true
   },
   "outputs": [],
   "source": []
  }
 ],
 "metadata": {
  "kernelspec": {
   "display_name": "Python 3",
   "language": "python",
   "name": "python3"
  },
  "language_info": {
   "codemirror_mode": {
    "name": "ipython",
    "version": 3
   },
   "file_extension": ".py",
   "mimetype": "text/x-python",
   "name": "python",
   "nbconvert_exporter": "python",
   "pygments_lexer": "ipython3",
   "version": "3.7.4"
  }
 },
 "nbformat": 4,
 "nbformat_minor": 2
}
