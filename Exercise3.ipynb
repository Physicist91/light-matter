{
 "cells": [
  {
   "cell_type": "markdown",
   "metadata": {},
   "source": [
    "# Radiative transfer model of HD209458b\n",
    "\n",
    "Main reference: https://www.aanda.org/articles/aa/full_html/2010/12/aa13396-09/aa13396-09.html\n",
    "\n",
    "## Question 1\n",
    "\n",
    "We reformulate the FTE using pressure as the coordinate. The FTE\n",
    "\n",
    "$$ \\mu \\frac{dI}{dz} = \\rho \\kappa (B(T(z)) - I) $$\n",
    "\n",
    "Using the chain rule, we have\n",
    "\n",
    "$$ \\mu \\frac{dI}{dP} \\frac{dP}{dz} = \\rho \\kappa (B(T(z)) - I) $$\n",
    "\n",
    "Substituting the equation for hydrostatic equilibrium $\\frac{dP}{dz} = -g \\rho$, we get\n",
    "\n",
    "$$ -\\mu \\frac{dI}{dP} = \\frac{\\kappa}{g} (B(T(P)) - I) $$\n",
    "\n",
    "Working in the P-coordinate has a few advantages:\n",
    "1. No need to know the equation of state of the gas\n",
    "2. Gas elements stays glued to their value of P, even if the temperature $T(P)$ changes"
   ]
  },
  {
   "cell_type": "code",
   "execution_count": 2,
   "metadata": {},
   "outputs": [],
   "source": [
    "# some relevant physical quantities\n",
    "\n",
    "def rho(z):\n",
    "    \"\"\"\n",
    "    Gives the gas density of the atmosphere assuming semi-infinite space\n",
    "    Need: rho0\n",
    "    \"\"\"\n",
    "    res = rho0 if z <= 0 else 0\n",
    "    \n",
    "    return res\n",
    "\n",
    "def alpha(z):\n",
    "    \"\"\"\n",
    "    extinction function\n",
    "    Need: kappa (opacity)\n",
    "    \"\"\"\n",
    "    return rho(z) * kappa\n",
    "\n",
    "def source(z):\n",
    "    \"\"\"\n",
    "    Source function\n",
    "    Need: eta, planck function B, mean intensity J\n",
    "    \"\"\"\n",
    "    return (1-eta) * B + eta * J\n",
    "\n",
    "def fte(z, I, mu):\n",
    "    \"\"\"\n",
    "    Gives the derivative of I wrt position z (RHS of the ODE).\n",
    "    \"\"\"\n",
    "    return alpha(z)/mu * (source(z) - I)"
   ]
  },
  {
   "cell_type": "markdown",
   "metadata": {},
   "source": [
    "\n",
    "\n",
    "**Step 1**:\n",
    "$$ F_*(P = P_{min}) = \\frac{L_*}{4\\pi d^2} $$\n",
    "Now, integrate $F_*$ downward under angle $i$. The ODE is:\n",
    "$$ \\frac{dF_*(P)}{dP} = -\\frac{K_*}{g \\cos(i)} F_*(P)$$\n",
    "\n",
    "where $k_* = 4 \\times 10^{-3} cm^2/g = 4 \\times 10^{-4} m^2/kg$ and $g = 9.66 m/s^2$. Loop:\n",
    "$$ \\Delta\\tau = \\frac{K_*}{g\\cos(i)} F_*(P)$$\n",
    "$$ F_*[i-1] = F_*[i] * \\exp(-\\Delta\\tau) $$\n",
    "\n",
    "And then $J_* = \\frac{F_*}{4\\pi}$, i.e. the mean intensity of the stellar light.\n",
    "\n",
    "**Step 2**: Lambda iteration\n",
    "* Start with initial guess of $T(P)$, e.g. $T(P)$ = 2000 K.\n",
    "* Loop iteration:\n",
    "    - Compute $B(T) = \\frac{\\sigma_*}{\\pi} * T^4$\n",
    "    - `B[:] = (sigma_b/pi) * T[:]**4`\n",
    "    - Source function: (take albedo = 0)\n",
    "    - `S[:] = B[:]`\n",
    "\n",
    "Moments of intensity\n",
    "$$ J = \\frac{1}{4\\pi} \\oint I(\\Omega) \\,d\\Omega = \\frac{1}{2} \\int_{-1}^{+1} I_{\\mu}\\,d\\mu$$\n",
    "\n",
    "mean intensity = 0th moment (scalar), 1st moment (vector), 2nd moment (rank 2 tensor).\n",
    "$$ \\frac{1}{4\\pi} \\oint \\vec{n} \\cdot \\vec{\\nabla} I \\,d\\Omega = \\frac{1}{4\\pi} \\oint \\alpha (S - I) \\,d\\Omega$$\n",
    "$$ \\frac{1}{4\\pi}\\vec{\\nabla} \\cdot \\oint \\vec{n}  I \\,d\\Omega = \\alpha S - \\frac{1}{4\\pi} \\alpha \\oint{I \\,d\\Omega} = \\alpha (S - T)$$\n",
    "$$ \\frac{1}{4\\pi} \\nabla \\cdot \\oint \\vec{n} \\vec{n} I \\,d\\Omega = - \\frac{\\alpha}{4\\pi} \\oint I \\vec{n} \\,d\\Omega$$"
   ]
  },
  {
   "cell_type": "code",
   "execution_count": 4,
   "metadata": {},
   "outputs": [],
   "source": [
    "from scipy.integrate import solve_ivp\n",
    "import numpy as np"
   ]
  },
  {
   "cell_type": "code",
   "execution_count": 3,
   "metadata": {},
   "outputs": [],
   "source": [
    "# setup the test problem\n",
    "B = 1\n",
    "rho0 = 1\n",
    "kappa = 1\n",
    "eta = 0\n",
    "\n",
    "z_grid = np.linspace(-10, 0, 100)\n",
    "mu_grid = np.linspace(-1, 1, 20) # no mu at zero\n",
    "I_grid = np.zeros(z_grid.size)\n"
   ]
  }
 ],
 "metadata": {
  "kernelspec": {
   "display_name": "Python 3",
   "language": "python",
   "name": "python3"
  },
  "language_info": {
   "codemirror_mode": {
    "name": "ipython",
    "version": 3
   },
   "file_extension": ".py",
   "mimetype": "text/x-python",
   "name": "python",
   "nbconvert_exporter": "python",
   "pygments_lexer": "ipython3",
   "version": "3.6.9"
  }
 },
 "nbformat": 4,
 "nbformat_minor": 2
}
