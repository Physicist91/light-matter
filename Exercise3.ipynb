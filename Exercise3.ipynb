{
 "cells": [
  {
   "cell_type": "markdown",
   "metadata": {},
   "source": [
    "# Radiative transfer model of HD209458b\n",
    "\n",
    "Main reference: https://www.aanda.org/articles/aa/full_html/2010/12/aa13396-09/aa13396-09.html\n",
    "\n",
    "## Question 1\n",
    "\n",
    "We reformulate the FTE using pressure as the coordinate. We have the FTE\n",
    "\n",
    "$$ \\mu \\frac{dI}{dz} = \\rho \\kappa (B(T(z)) - I) $$\n",
    "\n",
    "Using the chain rule, we have\n",
    "\n",
    "$$ \\mu \\frac{dI}{dP} \\frac{dP}{dz} = \\rho \\kappa (B(T(z)) - I) $$\n",
    "\n",
    "Substituting the equation for hydrostatic equilibrium $\\frac{dP}{dz} = -g \\rho$, we get\n",
    "\n",
    "$$ -\\mu \\frac{dI}{dP} = \\frac{\\kappa}{g} (B(T(P)) - I) $$\n",
    "\n",
    "Working in the P-coordinate has a few advantages:\n",
    "1. No need to know the equation of state of the gas\n",
    "2. Gas elements stays glued to their value of P, even if the temperature $T(P)$ changes\n",
    "\n",
    "## Question 2 & 3\n",
    "\n",
    "We set up a logarithmic grid $\\{P_i\\}_{i=0}^{N-1}$ and rewrite the numerical integration."
   ]
  },
  {
   "cell_type": "code",
   "execution_count": 1,
   "metadata": {},
   "outputs": [],
   "source": [
    "import numpy as np\n",
    "\n",
    "# some setup variables\n",
    "\n",
    "N = 100\n",
    "B = 1"
   ]
  },
  {
   "cell_type": "code",
   "execution_count": 3,
   "metadata": {},
   "outputs": [
    {
     "data": {
      "text/plain": [
       "array([1.00000000e+00, 8.90215085e-01, 7.92482898e-01, 7.05480231e-01,\n",
       "       6.28029144e-01, 5.59081018e-01, 4.97702356e-01, 4.43062146e-01,\n",
       "       3.94420606e-01, 3.51119173e-01, 3.12571585e-01, 2.78255940e-01,\n",
       "       2.47707636e-01, 2.20513074e-01, 1.96304065e-01, 1.74752840e-01,\n",
       "       1.55567614e-01, 1.38488637e-01, 1.23284674e-01, 1.09749877e-01,\n",
       "       9.77009957e-02, 8.69749003e-02, 7.74263683e-02, 6.89261210e-02,\n",
       "       6.13590727e-02, 5.46227722e-02, 4.86260158e-02, 4.32876128e-02,\n",
       "       3.85352859e-02, 3.43046929e-02, 3.05385551e-02, 2.71858824e-02,\n",
       "       2.42012826e-02, 2.15443469e-02, 1.91791026e-02, 1.70735265e-02,\n",
       "       1.51991108e-02, 1.35304777e-02, 1.20450354e-02, 1.07226722e-02,\n",
       "       9.54548457e-03, 8.49753436e-03, 7.56463328e-03, 6.73415066e-03,\n",
       "       5.99484250e-03, 5.33669923e-03, 4.75081016e-03, 4.22924287e-03,\n",
       "       3.76493581e-03, 3.35160265e-03, 2.98364724e-03, 2.65608778e-03,\n",
       "       2.36448941e-03, 2.10490414e-03, 1.87381742e-03, 1.66810054e-03,\n",
       "       1.48496826e-03, 1.32194115e-03, 1.17681195e-03, 1.04761575e-03,\n",
       "       9.32603347e-04, 8.30217568e-04, 7.39072203e-04, 6.57933225e-04,\n",
       "       5.85702082e-04, 5.21400829e-04, 4.64158883e-04, 4.13201240e-04,\n",
       "       3.67837977e-04, 3.27454916e-04, 2.91505306e-04, 2.59502421e-04,\n",
       "       2.31012970e-04, 2.05651231e-04, 1.83073828e-04, 1.62975083e-04,\n",
       "       1.45082878e-04, 1.29154967e-04, 1.14975700e-04, 1.02353102e-04,\n",
       "       9.11162756e-05, 8.11130831e-05, 7.22080902e-05, 6.42807312e-05,\n",
       "       5.72236766e-05, 5.09413801e-05, 4.53487851e-05, 4.03701726e-05,\n",
       "       3.59381366e-05, 3.19926714e-05, 2.84803587e-05, 2.53536449e-05,\n",
       "       2.25701972e-05, 2.00923300e-05, 1.78864953e-05, 1.59228279e-05,\n",
       "       1.41747416e-05, 1.26185688e-05, 1.12332403e-05, 1.00000000e-05])"
      ]
     },
     "execution_count": 3,
     "metadata": {},
     "output_type": "execute_result"
    }
   ],
   "source": [
    "# setup logarithmic grid\n",
    "# runs from high p (surface) to low p (top)\n",
    "# units are in bar\n",
    "\n",
    "p = np.logspace(-5, 0, N) \n",
    "p = p[::-1]\n",
    "p"
   ]
  },
  {
   "cell_type": "markdown",
   "metadata": {},
   "source": [
    "## Question 4\n",
    "\n",
    "To include the irradiation of the atmosphere from the star (with flux $F_v^*$, we use the superposition principle. As the flux enters the atmosphere with an angle $i$ with respect to the z-axis, the equation for the attenuation of the flux is\n",
    "\n",
    "$$ \\frac{dF_v^{*}(P)}{dP} = - \\frac{\\kappa_v}{g \\cos(i)} F_v^{*}(P) $$\n",
    "\n",
    "## Question 5\n",
    "\n",
    "$F^* = \\int_0^\\infty F^*_\\nu \\,d\\nu$, the frequency-integrated stellar flux, at the top of the atmosphere is\n",
    "\n",
    "$$ F^*(P = P_{min}) = \\frac{L_*}{4\\pi d^2} $$\n",
    "\n",
    "where $L_*$ is the frequency-integrated luminosity of the star.\n",
    "\n",
    "## Question 6 and 7\n",
    "\n",
    "Now, we would like to be able to compute $F^*(P_i)$ and $J(P_i)$ at every grid point $i$. By assuming that the opacity for the stellar photons $\\kappa_*$ to be different for the atmospheric thermal photons $\\kappa_{th}$, we get the following relation for the atmospheric temperature\n",
    "\n",
    "$$ \\frac{\\sigma_{sb}}{\\pi} T(P)^4 = J(P) + \\frac{\\kappa_*}{4\\pi\\kappa_{th}}F^*(P) $$\n",
    "\n",
    "To create the stellar radiation field, integrate $F_*$ downward under angle $i$. The ODE is:\n",
    "\n",
    "$$ \\frac{dF_*(P)}{dP} = -\\frac{\\kappa_*}{g \\cos(i)} F_*(P)$$\n",
    "\n",
    "where $\\kappa_* = 4 \\times 10^{-3} cm^2/g = 4 \\times 10^{-4} m^2/kg$ and $g = 9.66 m/s^2$. Loop:\n",
    "$$ \\Delta\\tau = \\frac{\\kappa_*}{g\\cos(i)} |\\Delta P|$$\n",
    "$$ F_*[i-1] = F_*[i] * \\exp(-\\Delta\\tau) $$\n",
    "\n",
    "And then $J_* = \\frac{F_*}{4\\pi}$, i.e. the mean intensity of the stellar light."
   ]
  },
  {
   "cell_type": "code",
   "execution_count": 4,
   "metadata": {},
   "outputs": [
    {
     "data": {
      "text/plain": [
       "0.0004"
      ]
     },
     "execution_count": 4,
     "metadata": {},
     "output_type": "execute_result"
    }
   ],
   "source": [
    "# default constants in SI units\n",
    "\n",
    "kappaStar = 4 * 1e-4\n",
    "g = 9.66\n",
    "lstar = 3.828 * 1e26\n",
    "d = 150 * 1e9\n",
    "\n",
    "def computeF(theta):\n",
    "    \"\"\"\n",
    "    compute irradiation given inclination angle theta.\n",
    "    \"\"\"\n",
    "    Fstar = np.zeros(N)\n",
    "    Fstar[-1] = lstar/(4 * np.pi * d^2)\n",
    "    \n",
    "    for i range(len(p)-1, -1, -1): # start from the top\n",
    "        deltaP = p[i-1] - p[i]\n",
    "        tau = kappaStar/g * 1/np.cos(theta) * deltaP\n",
    "        Fstar[i-1] = Fstar[i] * np.exp(-tau)"
   ]
  },
  {
   "cell_type": "markdown",
   "metadata": {},
   "source": [
    "\n",
    "**Step 2**: Lambda iteration\n",
    "* Start with initial guess of $T(P)$, e.g. $T(P)$ = 2000 K.\n",
    "* Loop iteration:\n",
    "    - Compute $B(T) = \\frac{\\sigma_*}{\\pi} * T^4$\n",
    "    - `B[:] = (sigma_b/pi) * T[:]**4`\n",
    "    - Source function: (take albedo = 0)\n",
    "    - `S[:] = B[:]`\n",
    "\n",
    "Moments of intensity\n",
    "$$ J = \\frac{1}{4\\pi} \\oint I(\\Omega) \\,d\\Omega = \\frac{1}{2} \\int_{-1}^{+1} I_{\\mu}\\,d\\mu$$\n",
    "\n",
    "mean intensity = 0th moment (scalar), 1st moment (vector), 2nd moment (rank 2 tensor).\n",
    "$$ \\frac{1}{4\\pi} \\oint \\vec{n} \\cdot \\vec{\\nabla} I \\,d\\Omega = \\frac{1}{4\\pi} \\oint \\alpha (S - I) \\,d\\Omega$$\n",
    "$$ \\frac{1}{4\\pi}\\vec{\\nabla} \\cdot \\oint \\vec{n}  I \\,d\\Omega = \\alpha S - \\frac{1}{4\\pi} \\alpha \\oint{I \\,d\\Omega} = \\alpha (S - T)$$\n",
    "$$ \\frac{1}{4\\pi} \\nabla \\cdot \\oint \\vec{n} \\vec{n} I \\,d\\Omega = - \\frac{\\alpha}{4\\pi} \\oint I \\vec{n} \\,d\\Omega$$"
   ]
  },
  {
   "cell_type": "code",
   "execution_count": null,
   "metadata": {},
   "outputs": [],
   "source": []
  }
 ],
 "metadata": {
  "kernelspec": {
   "display_name": "Python 3",
   "language": "python",
   "name": "python3"
  },
  "language_info": {
   "codemirror_mode": {
    "name": "ipython",
    "version": 3
   },
   "file_extension": ".py",
   "mimetype": "text/x-python",
   "name": "python",
   "nbconvert_exporter": "python",
   "pygments_lexer": "ipython3",
   "version": "3.6.9"
  }
 },
 "nbformat": 4,
 "nbformat_minor": 2
}
