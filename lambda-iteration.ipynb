{
 "cells": [
  {
   "cell_type": "markdown",
   "metadata": {},
   "source": [
    "# 1-D Plane parallel radiative transfer\n",
    "\n",
    "All quantities are assumed to be independent of the two horizontal coordinates $x$ and $y$.\n",
    "\n",
    "The physical quantities are:\n",
    "* $\\rho(z)$ gas density\n",
    "* $T(\\rho)$ gas temperature\n",
    "* $z$ vertical coordinate above the earth's surface: $z = 0$ top of the atmosphere, $z = z_0 < 0$ bottom of the atmosphere\n",
    "* $\\theta$ observation angle ($\\theta = 0$ is looking straight down)\n",
    "\n",
    "We consider *semi-infinite space* where the gas density is constant if $z <= 0 $ and 0 for $z > 0$, and the extinction function is $ \\alpha(z) = \\rho(z) \\kappa$."
   ]
  },
  {
   "cell_type": "code",
   "execution_count": 1,
   "metadata": {},
   "outputs": [],
   "source": [
    "import numpy as np\n",
    "\n",
    "# default parameters\n",
    "\n",
    "rho = 1\n",
    "kappa = 1\n",
    "B = 1\n",
    "\n",
    "alpha = rho * kappa"
   ]
  },
  {
   "cell_type": "code",
   "execution_count": 2,
   "metadata": {},
   "outputs": [],
   "source": [
    "# set up the grid\n",
    "z0 = -10\n",
    "Nz = 100\n",
    "Nmu = 20\n",
    "\n",
    "z = np.linspace(z0, 0, Nz + 1) # create Nz cell walls\n",
    "mu = np.linspace(-1, 1, Nmu + 1) # create Nmu cell walls"
   ]
  },
  {
   "cell_type": "markdown",
   "metadata": {},
   "source": [
    "## Question 1\n",
    "\n",
    "First of all, we set $\\eta = 0$, this way we can directly integrate the FTE:\n",
    "\n",
    "$$ \\mu \\frac{dI(z)}{dz} = \\alpha(z) [B(z) - I(z)] $$\n",
    "\n",
    "with $\\mu = \\cos(\\theta)$. Note that $B(z)$ is set to 1 for the test problem here."
   ]
  },
  {
   "cell_type": "code",
   "execution_count": 4,
   "metadata": {},
   "outputs": [
    {
     "name": "stdout",
     "output_type": "stream",
     "text": [
      "[[0.9999702  0.99999126 0.99999815 ... 1.         1.         1.        ]\n",
      " [0.99996689 0.99999016 0.99999789 ... 1.         1.         1.        ]\n",
      " [0.99996322 0.99998894 0.99999758 ... 1.         1.         1.        ]\n",
      " ...\n",
      " [0.18984227 0.20966164 0.23407166 ... 1.         1.         1.        ]\n",
      " [0.09991237 0.11099023 0.12482668 ... 1.         1.         1.        ]\n",
      " [0.         0.         0.         ... 1.         1.         1.        ]]\n"
     ]
    }
   ],
   "source": [
    "# the intensity is now a 2-D array\n",
    "# remember z runs from z0 to 0\n",
    "# mu runs from -1 to 1\n",
    "\n",
    "I = np.zeros((Nz, Nmu))\n",
    "zero_mu = int(Nmu/2)\n",
    "I[0, zero_mu:] = B # boundary condition at z = z0, mu > 0\n",
    "I[-1, 0:zero_mu] = 0 # boundary condition at the top of the atmosphere, mu < 0\n",
    "\n",
    "h = abs(z0/Nz) # step size\n",
    "\n",
    "# integrate upwards (mu > 0)\n",
    "for i in range(1, Nz):\n",
    "    for j in range(zero_mu, Nmu):\n",
    "        mu_j = (mu[j + 1] + mu[j])/2 # mu contains Nmu + 1 cell walls\n",
    "        tau = h * alpha/mu_j # optical depth\n",
    "        coef1 = (1 - (1 + tau) * np.exp(-tau))/tau\n",
    "        coef2 = (tau - 1 + np.exp(-tau))/tau\n",
    "\n",
    "        I[i][j] = I[i-1][j] * np.exp(-tau) + coef1 * B + coef2 * B\n",
    "\n",
    "# integrate downwards (mu < 0)\n",
    "for i in range(Nz - 2, -1, -1):\n",
    "    for j in range(0, zero_mu):\n",
    "        mu_j = (mu[j + 1] + mu[j])/2\n",
    "        tau = abs(h * alpha/mu_j) # optical depth\n",
    "        coef1 = (1 - (1 + tau) * np.exp(-tau))/tau\n",
    "        coef2 = (tau - 1 + np.exp(-tau))/tau\n",
    "\n",
    "        I[i][j] = I[i+1][j] * np.exp(-tau) + coef1 * B + coef2 * B\n",
    "\n",
    "print(I)"
   ]
  },
  {
   "cell_type": "markdown",
   "metadata": {},
   "source": [
    "## Question 2\n",
    "\n",
    "Now we want to compute the mean intensity at every grid point $z_i$ as follows.\n",
    "\n",
    "$$ J(z) = \\frac{1}{2} \\int_{-1}^{+1} I(z,\\mu) \\,d\\mu $$"
   ]
  },
  {
   "cell_type": "code",
   "execution_count": 5,
   "metadata": {},
   "outputs": [
    {
     "data": {
      "text/plain": [
       "0.9999979673898034"
      ]
     },
     "execution_count": 5,
     "metadata": {},
     "output_type": "execute_result"
    }
   ],
   "source": [
    "def mean_intensity(z, I, Nmu = 20):\n",
    "    \"\"\"\n",
    "    compute mean intensity with discrete formulation, assuming mu is always from -1 to +1.\n",
    "    args:\n",
    "    - z, grid point index\n",
    "    - I, 2-D array of intensity values at z and mu\n",
    "    \"\"\"\n",
    "    dmu = 2/Nmu\n",
    "    return 0.5 * sum([I[z][j] * dmu for j in range(Nmu)])\n",
    "\n",
    "# test\n",
    "mean_intensity(0, I)"
   ]
  },
  {
   "cell_type": "markdown",
   "metadata": {},
   "source": [
    "## Question 3\n",
    "\n",
    "With $\\eta = 0.5$, we now need the lambda iteration:\n",
    "1. Assume $J(z) = 0$, thus $S(z) = (1 - \\eta) B(z)$\n",
    "2. Integrate the FTE $\\mu \\frac{dI(z)}{dz} = \\alpha(z) (S(z) - I(z))$ to get $I(z, \\mu)$\n",
    "3. Compute $J(z)$ using the current $I(z, \\mu)$\n",
    "4. Update the source function using the current mean intensity\n",
    "5. Repeat step 2 to 4 until the source function converges"
   ]
  },
  {
   "cell_type": "code",
   "execution_count": 13,
   "metadata": {},
   "outputs": [],
   "source": [
    "eta = 0.5\n",
    "\n",
    "########\n",
    "# implement lambda iteration\n",
    "########\n",
    "\n",
    "# initialize mean intensity for all grid points\n",
    "J = np.zeros(Nz)\n",
    "S_old = np.zeros(Nz)\n",
    "S = []\n",
    "\n",
    "# initialize intensity values\n",
    "I = np.zeros((Nz, Nmu))\n",
    "zero_mu = int(Nmu/2)\n",
    "I[0, zero_mu:] = B # boundary condition at z = z0, mu > 0\n",
    "I[-1, 0:zero_mu] = 0 # boundary condition at the top of the atmosphere, mu < 0\n",
    "\n",
    "h = abs(z0/Nz) # step size\n",
    "\n",
    "for i in range(1000):\n",
    "    # update the source at all grid points\n",
    "    S_new = (1 - eta) * B + eta * J\n",
    "    \n",
    "    S.append(S_new)\n",
    "    \n",
    "    if np.mean((S_new - S_old)**2) < 1e-9:\n",
    "        break\n",
    "    else:\n",
    "        S_old = S_new\n",
    "\n",
    "    # integrate upwards (mu > 0)\n",
    "    for i in range(1, Nz):\n",
    "        for j in range(zero_mu, Nmu):\n",
    "            mu_j = (mu[j + 1] + mu[j])/2 # mu contains Nmu + 1 cell walls\n",
    "            tau = h * alpha/mu_j # optical depth\n",
    "            coef1 = (1 - (1 + tau) * np.exp(-tau))/tau\n",
    "            coef2 = (tau - 1 + np.exp(-tau))/tau\n",
    "\n",
    "            I[i][j] = I[i-1][j] * np.exp(-tau) + coef1 * S_old[i-1] + coef2 * S_old[i]\n",
    "\n",
    "    # integrate downwards (mu < 0)\n",
    "    for i in range(Nz - 2, -1, -1):\n",
    "        for j in range(0, zero_mu):\n",
    "            mu_j = (mu[j + 1] + mu[j])/2\n",
    "            tau = abs(h * alpha/mu_j) # optical depth\n",
    "            coef1 = (1 - (1 + tau) * np.exp(-tau))/tau\n",
    "            coef2 = (tau - 1 + np.exp(-tau))/tau\n",
    "\n",
    "            I[i][j] = I[i+1][j] * np.exp(-tau) + coef1 * S_old[i] + coef2 * S_old[i+1]\n",
    "\n",
    "    # compute mean intensity at all grid points\n",
    "    J = np.array([mean_intensity(i, I) for i in range(Nz)])"
   ]
  },
  {
   "cell_type": "code",
   "execution_count": 23,
   "metadata": {},
   "outputs": [
    {
     "data": {
      "text/plain": [
       "Text(0.5,1,'Convergence of the source function with # iterations')"
      ]
     },
     "execution_count": 23,
     "metadata": {},
     "output_type": "execute_result"
    },
    {
     "data": {
      "image/png": "[encoded data removed]",
      "text/plain": [
       "<Figure size 432x288 with 1 Axes>"
      ]
     },
     "metadata": {
      "needs_background": "light"
     },
     "output_type": "display_data"
    }
   ],
   "source": [
    "import matplotlib.pyplot as plt\n",
    "\n",
    "# plot convergence\n",
    "\n",
    "vals = [s[0] for s in S] # intensity at the bottom of the atmosphere\n",
    "\n",
    "plt.plot(range(len(vals)), vals)\n",
    "plt.title(\"Convergence of the source function with # iterations\")"
   ]
  },
  {
   "cell_type": "markdown",
   "metadata": {},
   "source": [
    "## Question 4\n",
    "\n",
    "To show that the intensity is declining with increasing $\\theta$ (decreasing $\\mu$) at the top of the atmosphere."
   ]
  },
  {
   "cell_type": "code",
   "execution_count": 31,
   "metadata": {},
   "outputs": [
    {
     "data": {
      "text/plain": [
       "Text(0.5,1,'Intensity vs mu')"
      ]
     },
     "execution_count": 31,
     "metadata": {},
     "output_type": "execute_result"
    },
    {
     "data": {
      "image/png": "[encoded data removed]",
      "text/plain": [
       "<Figure size 432x288 with 1 Axes>"
      ]
     },
     "metadata": {
      "needs_background": "light"
     },
     "output_type": "display_data"
    }
   ],
   "source": [
    "plt.plot(mu[-1:zero_mu:-1], [I[-1][u] for u in range(Nmu-1, zero_mu-1, -1)])\n",
    "plt.title(\"Intensity vs mu\")"
   ]
  },
  {
   "cell_type": "code",
   "execution_count": null,
   "metadata": {},
   "outputs": [],
   "source": []
  }
 ],
 "metadata": {
  "kernelspec": {
   "display_name": "Python 3",
   "language": "python",
   "name": "python3"
  },
  "language_info": {
   "codemirror_mode": {
    "name": "ipython",
    "version": 3
   },
   "file_extension": ".py",
   "mimetype": "text/x-python",
   "name": "python",
   "nbconvert_exporter": "python",
   "pygments_lexer": "ipython3",
   "version": "3.6.9"
  }
 },
 "nbformat": 4,
 "nbformat_minor": 2
}
